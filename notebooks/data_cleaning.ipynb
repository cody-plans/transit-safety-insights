{
 "cells": [
  {
   "cell_type": "code",
   "execution_count": null,
   "metadata": {},
   "outputs": [],
   "source": [
    "# Data Loading\n",
    "data_path = \"../data/raw_data.csv\"\n",
    "df_full = pd.read_csv(data_path)"
   ]
  },
  {
   "cell_type": "code",
   "execution_count": null,
   "metadata": {},
   "outputs": [],
   "source": [
    "# Selected Columns\n",
    "# Define the list of columns to keep\n",
    "columns_to_keep = [\n",
    "    'NTD ID',\n",
    "    'Primary UZA UACE Code',\n",
    "    'Rail/Bus/Ferry',\n",
    "    'Mode Name',\n",
    "    'Mode',\n",
    "    'TOS',\n",
    "    'Year',\n",
    "    'Event Date',\n",
    "    'Event Time',\n",
    "    'Event Type',\n",
    "    'Event Type Group',\n",
    "    'Safety/Security',\n",
    "    'Property Damage',\n",
    "    'Total Injuries',\n",
    "    'Total Fatalities',\n",
    "    'Towed (Y/N)',\n",
    "    'Number of Transit Vehicles Involved',\n",
    "    'Number of Non-Transit Vehicles Involved',\n",
    "    'Number of Cars on Involved Transit Vehicles',\n",
    "    'Non-Transit Vehicle Type List',\n",
    "    'Location Type',\n",
    "    'Latitude',\n",
    "    'Longitude',\n",
    "    'Weather',\n",
    "    'Lighting',\n",
    "    'Road Configuration',\n",
    "    'Path Condition',\n",
    "    'Right of Way Condition',\n",
    "    'Intersection Control Device',\n",
    "    'Transit Vehicle Action',\n",
    "    'Other Transit Vehicle Action Description',\n",
    "    'Non-Transit Vehicle Action List',\n",
    "    'Transit (Y/N)',\n",
    "    'Fuel Type',\n",
    "    'Vehicle Speed',\n",
    "    'Transit Vehicle Type',\n",
    "    'Non-Transit Vehicle Type',\n",
    "    'Transit Vehicle Manufacturer',\n",
    "    'Total Serious Injuries'\n",
    "]\n",
    "\n",
    "df = df_full[columns_to_keep]"
   ]
  },
  {
   "cell_type": "code",
   "execution_count": null,
   "metadata": {},
   "outputs": [],
   "source": [
    "# count the number of missing values in each column\n",
    "missing_values = df.isnull().sum()\n",
    "\n",
    "# drop columns with more than 10% missing values\n",
    "columns_to_drop = missing_values[missing_values > 0.1 * df.shape[0]].index\n",
    "df = df.drop(columns=columns_to_drop)\n",
    "\n",
    "# drop rows with missing values\n",
    "df = df.dropna()\n",
    "\n",
    "# drop duplicates\n",
    "df = df.drop_duplicates()\n",
    "\n",
    "# save the cleaned data, save to data folder as data_cleaned.csv\n",
    "df.to_csv('../data/cleaned_data.csv', index=False)"
   ]
  }
 ],
 "metadata": {
  "kernelspec": {
   "display_name": "base",
   "language": "python",
   "name": "python3"
  },
  "language_info": {
   "name": "python",
   "version": "3.9.7"
  }
 },
 "nbformat": 4,
 "nbformat_minor": 2
}
