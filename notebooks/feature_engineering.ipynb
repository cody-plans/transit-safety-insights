{
 "cells": [
  {
   "cell_type": "code",
   "execution_count": 1,
   "metadata": {},
   "outputs": [
    {
     "name": "stderr",
     "output_type": "stream",
     "text": [
      "/Users/chukkalok/opt/anaconda3/lib/python3.9/site-packages/scipy/__init__.py:146: UserWarning: A NumPy version >=1.16.5 and <1.23.0 is required for this version of SciPy (detected version 1.23.4\n",
      "  warnings.warn(f\"A NumPy version >={np_minversion} and <{np_maxversion}\"\n"
     ]
    },
    {
     "name": "stdout",
     "output_type": "stream",
     "text": [
      "  event_date event_time  hour time_of_day  rush_hour      season    weekday  \\\n",
      "0 2024-11-30   08:46:00     8     morning          1  non-winter   Saturday   \n",
      "1 2024-11-30   19:09:00    19     evening          0  non-winter   Saturday   \n",
      "2 2024-11-29   20:30:00    20     evening          0  non-winter     Friday   \n",
      "3 2024-11-29   13:03:00    13   afternoon          0  non-winter     Friday   \n",
      "4 2024-11-27   15:20:00    15   afternoon          0  non-winter  Wednesday   \n",
      "\n",
      "   day  month  \n",
      "0   30     11  \n",
      "1   30     11  \n",
      "2   29     11  \n",
      "3   29     11  \n",
      "4   27     11  \n"
     ]
    }
   ],
   "source": [
    "import pandas as pd\n",
    "import numpy as np\n",
    "import matplotlib.pyplot as plt\n",
    "import seaborn as sns\n",
    "\n",
    "# Load data\n",
    "df = pd.read_csv('../data/cleaned_data.csv')\n",
    "\n",
    "\n",
    "# Convert columns to datetime objects\n",
    "df['Event Date'] = pd.to_datetime(df['Event Date'], format='%Y %B %d')\n",
    "df['Event Time'] = pd.to_datetime(df['Event Time'].astype(str)).dt.time\n",
    "\n",
    "\n",
    "# Extract features from Event Date\n",
    "df['Month'] = df['Event Date'].dt.month\n",
    "df['Day'] = df['Event Date'].dt.day\n",
    "df['Weekday'] = df['Event Date'].dt.day_name()\n",
    "\n",
    "# Create season feature (winter vs non-winter)\n",
    "df['Season'] = df['Month'].apply(lambda m: 'winter' if m in [12, 1, 2] else 'non-winter')\n",
    "\n",
    "# Convert Event Time to extract the hour (assuming it's in 24-hour format)\n",
    "# Since 'Event Time' is already datetime.time, you can extract hour directly:\n",
    "df['Hour'] = df['Event Time'].apply(lambda t: t.hour) #Using apply to access the hour attribute\n",
    "\n",
    "# Categorize time of day\n",
    "def categorize_time(hour):\n",
    "    if 5 <= hour < 12:\n",
    "        return 'morning'\n",
    "    elif 12 <= hour < 17:\n",
    "        return 'afternoon'\n",
    "    elif 17 <= hour < 21:\n",
    "        return 'evening'\n",
    "    else:\n",
    "        return 'night'\n",
    "\n",
    "df['Time Of Day'] = df['Hour'].apply(categorize_time)\n",
    "\n",
    "# Create rush hour flag\n",
    "def is_rush_hour(hour):\n",
    "    return 1 if (7 <= hour < 10 or 16 <= hour < 19) else 0\n",
    "\n",
    "df['Rush Hour'] = df['Hour'].apply(is_rush_hour) #Removed extra =\n",
    "\n",
    "# Select columns to display for checking\n",
    "columns = ['Event Date', 'Event Time', 'Hour', 'Time Of Day', 'Rush Hour', 'Season', 'Weekday', 'Day', 'Month']\n",
    "print(df[columns].head())\n",
    "\n",
    "# Store the new dataset to a new CSV file\n",
    "df = pd.read_csv('../data/feature_engineered_data.csv', index=False)"
   ]
  },
  {
   "cell_type": "code",
   "execution_count": 2,
   "metadata": {},
   "outputs": [],
   "source": [
    "# enhance the column uace code by using external census data in 2010 \n",
    "import pandas as pd\n",
    "# load census data\n",
    "df_census_data = pd.read_csv('../data/census_data_2010.csv')"
   ]
  },
  {
   "cell_type": "code",
   "execution_count": 12,
   "metadata": {},
   "outputs": [],
   "source": [
    "# Store the new dataset to a new CSV file\n",
    "df = pd.read_csv('../data/feature_engineered_data.csv')"
   ]
  },
  {
   "cell_type": "code",
   "execution_count": 24,
   "metadata": {},
   "outputs": [
    {
     "data": {
      "text/html": [
       "<div>\n",
       "<style scoped>\n",
       "    .dataframe tbody tr th:only-of-type {\n",
       "        vertical-align: middle;\n",
       "    }\n",
       "\n",
       "    .dataframe tbody tr th {\n",
       "        vertical-align: top;\n",
       "    }\n",
       "\n",
       "    .dataframe thead th {\n",
       "        text-align: right;\n",
       "    }\n",
       "</style>\n",
       "<table border=\"1\" class=\"dataframe\">\n",
       "  <thead>\n",
       "    <tr style=\"text-align: right;\">\n",
       "      <th></th>\n",
       "      <th>UACE</th>\n",
       "      <th>Density</th>\n",
       "    </tr>\n",
       "  </thead>\n",
       "  <tbody>\n",
       "    <tr>\n",
       "      <th>0</th>\n",
       "      <td>37</td>\n",
       "      <td>0.144370</td>\n",
       "    </tr>\n",
       "    <tr>\n",
       "      <th>1</th>\n",
       "      <td>64</td>\n",
       "      <td>0.086678</td>\n",
       "    </tr>\n",
       "    <tr>\n",
       "      <th>2</th>\n",
       "      <td>91</td>\n",
       "      <td>0.160758</td>\n",
       "    </tr>\n",
       "    <tr>\n",
       "      <th>3</th>\n",
       "      <td>118</td>\n",
       "      <td>0.131157</td>\n",
       "    </tr>\n",
       "    <tr>\n",
       "      <th>4</th>\n",
       "      <td>145</td>\n",
       "      <td>0.173549</td>\n",
       "    </tr>\n",
       "  </tbody>\n",
       "</table>\n",
       "</div>"
      ],
      "text/plain": [
       "   UACE   Density\n",
       "0    37  0.144370\n",
       "1    64  0.086678\n",
       "2    91  0.160758\n",
       "3   118  0.131157\n",
       "4   145  0.173549"
      ]
     },
     "execution_count": 24,
     "metadata": {},
     "output_type": "execute_result"
    }
   ],
   "source": [
    "# add one feature Density in df_census_data \n",
    "# Arealand: unit meters square\n",
    "# Density = POP/(AREALAND/1000)\n",
    "df_census_data['Density'] = df_census_data['POP']/df_census_data['AREALAND']*1000\n",
    "\n",
    "# normalize the columns\n",
    "df_census_data['Density'] = (df_census_data['Density'] - df_census_data['Density'].min()) / (df_census_data['Density'].max() - df_census_data['Density'].min())\n",
    "\n",
    "#select uace and density and show head\n",
    "df_census_data[['UACE', 'Density']].head()"
   ]
  },
  {
   "cell_type": "code",
   "execution_count": 25,
   "metadata": {},
   "outputs": [
    {
     "name": "stdout",
     "output_type": "stream",
     "text": [
      "   NTD ID  Primary UZA UACE Code Rail/Bus/Ferry        Mode Name Mode TOS  \\\n",
      "0   20080                  63217            Bus              Bus   MB  DO   \n",
      "1   40035                  65863            Bus  Demand Response   DR  DO   \n",
      "2   50027                  57628           Rail       Light Rail   LR  DO   \n",
      "3   90026                  78661           Rail       Light Rail   LR  DO   \n",
      "4   20080                  63217            Bus              Bus   MB  DO   \n",
      "\n",
      "   Year  Event Date Event Time                           Event Type  ...  \\\n",
      "0  2024  2024-11-30   08:46:00                   Non-Rail Collision  ...   \n",
      "1  2024  2024-11-30   19:09:00                   Non-Rail Collision  ...   \n",
      "2  2024  2024-11-29   20:30:00  Homicide not against Transit Worker  ...   \n",
      "3  2024  2024-11-29   13:03:00   Assault not against Transit Worker  ...   \n",
      "4  2024  2024-11-27   15:20:00                   Non-Rail Collision  ...   \n",
      "\n",
      "  Total Serious Injuries Month  Day    Weekday      Season  Hour  Time Of Day  \\\n",
      "0                      0    11   30   Saturday  non-winter     8      morning   \n",
      "1                      0    11   30   Saturday  non-winter    19      evening   \n",
      "2                      0    11   29     Friday  non-winter    20      evening   \n",
      "3                      0    11   29     Friday  non-winter    13    afternoon   \n",
      "4                      0    11   27  Wednesday  non-winter    15    afternoon   \n",
      "\n",
      "   Rush Hour     UACE   Density  \n",
      "0          1  63217.0  0.513374  \n",
      "1          0  65863.0  0.224168  \n",
      "2          0  57628.0  0.231116  \n",
      "3          0  78661.0  0.380573  \n",
      "4          0  63217.0  0.513374  \n",
      "\n",
      "[5 rows x 29 columns]\n"
     ]
    }
   ],
   "source": [
    "# join df with df_census_data \n",
    "# join on df[Primary UZA UACE Code] = df_census_data[UACE]\n",
    "# left join df on df_census_data\n",
    "# select only Density from df_census_data and keep all columns in df\n",
    "\n",
    "\n",
    "# Assuming df and df_census_data are already defined DataFrames\n",
    "\n",
    "# Select only the 'UACE' and 'Density' columns from df_census_data\n",
    "df_census_data_subset = df_census_data[['UACE', 'Density']]\n",
    "\n",
    "# Perform a left merge on the key: df[\"Primary UZA UACE Code\"] = df_census_data[\"UACE\"]\n",
    "df = pd.merge(df, df_census_data_subset, left_on='Primary UZA UACE Code', right_on='UACE', how='left')\n",
    "\n",
    "# df now contains all columns from df and the 'Density' column from df_census_data\n",
    "print(df.head())\n",
    "\n"
   ]
  },
  {
   "cell_type": "code",
   "execution_count": 26,
   "metadata": {},
   "outputs": [
    {
     "data": {
      "text/plain": [
       "NTD ID                                           0\n",
       "Primary UZA UACE Code                            0\n",
       "Rail/Bus/Ferry                                   0\n",
       "Mode Name                                        0\n",
       "Mode                                             0\n",
       "TOS                                              0\n",
       "Year                                             0\n",
       "Event Date                                       0\n",
       "Event Time                                       0\n",
       "Event Type                                       0\n",
       "Event Type Group                                 0\n",
       "Safety/Security                                  0\n",
       "Total Injuries                                   0\n",
       "Total Fatalities                                 0\n",
       "Towed (Y/N)                                      0\n",
       "Number of Transit Vehicles Involved              0\n",
       "Number of Non-Transit Vehicles Involved          0\n",
       "Number of Cars on Involved Transit Vehicles      0\n",
       "Location Type                                    0\n",
       "Total Serious Injuries                           0\n",
       "Month                                            0\n",
       "Day                                              0\n",
       "Weekday                                          0\n",
       "Season                                           0\n",
       "Hour                                             0\n",
       "Time Of Day                                      0\n",
       "Rush Hour                                        0\n",
       "UACE                                           824\n",
       "Density                                        824\n",
       "dtype: int64"
      ]
     },
     "execution_count": 26,
     "metadata": {},
     "output_type": "execute_result"
    }
   ],
   "source": [
    "# Analyze missing value distribution and patterns\n",
    "#count any missing values\n",
    "df.isnull().sum()"
   ]
  },
  {
   "cell_type": "code",
   "execution_count": 27,
   "metadata": {},
   "outputs": [
    {
     "name": "stdout",
     "output_type": "stream",
     "text": [
      "Index(['NTD ID', 'Primary UZA UACE Code', 'Rail/Bus/Ferry', 'Mode Name',\n",
      "       'Mode', 'TOS', 'Year', 'Event Date', 'Event Time', 'Event Type',\n",
      "       'Event Type Group', 'Safety/Security', 'Total Injuries',\n",
      "       'Total Fatalities', 'Towed (Y/N)',\n",
      "       'Number of Transit Vehicles Involved',\n",
      "       'Number of Non-Transit Vehicles Involved',\n",
      "       'Number of Cars on Involved Transit Vehicles', 'Location Type',\n",
      "       'Total Serious Injuries', 'Month', 'Day', 'Weekday', 'Season', 'Hour',\n",
      "       'Time Of Day', 'Rush Hour', 'UACE', 'Density'],\n",
      "      dtype='object')\n"
     ]
    }
   ],
   "source": [
    "#print df columns name\n",
    "print(df.columns)"
   ]
  },
  {
   "cell_type": "code",
   "execution_count": 28,
   "metadata": {},
   "outputs": [
    {
     "name": "stdout",
     "output_type": "stream",
     "text": [
      "       0      1\n",
      "Year           \n",
      "2014  52   6556\n",
      "2015  92   8999\n",
      "2016  79   9260\n",
      "2017  91   9145\n",
      "2018  76   9475\n",
      "2019  97   9818\n",
      "2020  53   7144\n",
      "2021  74   8276\n",
      "2022  60   9582\n",
      "2023  68  10365\n",
      "2024  82   9991\n"
     ]
    }
   ],
   "source": [
    "# compare rows that has missing values in density, and those with values, group by year\n",
    "# count the rows with missing values, group by year\n",
    "missing_rows = df[df['Density'].isnull()].groupby('Year').size()\n",
    "\n",
    "# print out side by side, one column being missing rows count, the other column being row without missing values, group by year\n",
    "print(pd.concat([missing_rows, df.groupby('Year').size()], axis=1))"
   ]
  },
  {
   "cell_type": "code",
   "execution_count": 30,
   "metadata": {},
   "outputs": [
    {
     "data": {
      "text/plain": [
       "Primary UZA UACE Code\n",
       "39889    545\n",
       "9536     114\n",
       "22612     64\n",
       "42        18\n",
       "17        16\n",
       "71060     16\n",
       "50533     14\n",
       "61948     13\n",
       "99999     10\n",
       "67140      5\n",
       "dtype: int64"
      ]
     },
     "execution_count": 30,
     "metadata": {},
     "output_type": "execute_result"
    }
   ],
   "source": [
    "# calculate statistics \n",
    "df[df['Density'].isnull()]\n",
    "\n",
    "# top ten uace code \n",
    "df[df['Density'].isnull()].groupby('Primary UZA UACE Code').size().sort_values(ascending=False).head(10)"
   ]
  },
  {
   "cell_type": "markdown",
   "metadata": {},
   "source": [
    "Reference for the found UACE, Area Name and population on https://www.transportation.gov/grants/infra-urban-and-rural-areas\n",
    "| UACE  | Urban Area Name                                | Population |\n",
    "|-------|------------------------------------------------|------------|\n",
    "| 39889 | Honolulu, HI                                   | 853,252    |\n",
    "| 09536 | Bradenton–Sarasota–Venice, FL                    | 779,075    |\n",
    "| 22612 | Daytona Beach–Palm Coast–Port Orange, FL         | 402,126    |\n",
    "| 50533 | Livermore–Pleasanton–Dublin, CA                  | 240,381    |\n",
    "| 67140 | Palmdale–Lancaster, CA                           | 359,559    |\n"
   ]
  },
  {
   "cell_type": "code",
   "execution_count": 31,
   "metadata": {},
   "outputs": [
    {
     "data": {
      "text/plain": [
       "0    95579\n",
       "1     3032\n",
       "Name: Has Fatalities, dtype: int64"
      ]
     },
     "execution_count": 31,
     "metadata": {},
     "output_type": "execute_result"
    }
   ],
   "source": [
    "# create a column has_fatalities if total_fatalities is greater than 0\n",
    "df['Has Fatalities'] = df['Total Fatalities'].apply(lambda x: 1 if x > 0 else 0)\n",
    "\n",
    "df['Has Fatalities'].value_counts()"
   ]
  },
  {
   "cell_type": "code",
   "execution_count": 33,
   "metadata": {},
   "outputs": [
    {
     "data": {
      "text/plain": [
       "Has Fatalities\n",
       "0    806\n",
       "1     18\n",
       "dtype: int64"
      ]
     },
     "execution_count": 33,
     "metadata": {},
     "output_type": "execute_result"
    }
   ],
   "source": [
    "# count if density has missing values, how many rows has fatalities = 1\n",
    "df[df['Density'].isnull()].groupby('Has Fatalities').size()"
   ]
  },
  {
   "cell_type": "code",
   "execution_count": 34,
   "metadata": {},
   "outputs": [],
   "source": [
    "# update the feature_engineered_data.csv with df\n",
    "df.to_csv('../data/feature_engineered_data.csv', index=False)"
   ]
  },
  {
   "cell_type": "code",
   "execution_count": 36,
   "metadata": {},
   "outputs": [
    {
     "data": {
      "text/html": [
       "<div>\n",
       "<style scoped>\n",
       "    .dataframe tbody tr th:only-of-type {\n",
       "        vertical-align: middle;\n",
       "    }\n",
       "\n",
       "    .dataframe tbody tr th {\n",
       "        vertical-align: top;\n",
       "    }\n",
       "\n",
       "    .dataframe thead th {\n",
       "        text-align: right;\n",
       "    }\n",
       "</style>\n",
       "<table border=\"1\" class=\"dataframe\">\n",
       "  <thead>\n",
       "    <tr style=\"text-align: right;\">\n",
       "      <th></th>\n",
       "      <th>NTD ID</th>\n",
       "      <th>Primary UZA UACE Code</th>\n",
       "      <th>Rail/Bus/Ferry</th>\n",
       "      <th>Mode Name</th>\n",
       "      <th>Mode</th>\n",
       "      <th>TOS</th>\n",
       "      <th>Year</th>\n",
       "      <th>Event Date</th>\n",
       "      <th>Event Time</th>\n",
       "      <th>Event Type</th>\n",
       "      <th>...</th>\n",
       "      <th>Month</th>\n",
       "      <th>Day</th>\n",
       "      <th>Weekday</th>\n",
       "      <th>Season</th>\n",
       "      <th>Hour</th>\n",
       "      <th>Time Of Day</th>\n",
       "      <th>Rush Hour</th>\n",
       "      <th>UACE</th>\n",
       "      <th>Density</th>\n",
       "      <th>Has Fatalities</th>\n",
       "    </tr>\n",
       "  </thead>\n",
       "  <tbody>\n",
       "    <tr>\n",
       "      <th>0</th>\n",
       "      <td>20080</td>\n",
       "      <td>63217</td>\n",
       "      <td>Bus</td>\n",
       "      <td>Bus</td>\n",
       "      <td>MB</td>\n",
       "      <td>DO</td>\n",
       "      <td>2024</td>\n",
       "      <td>2024-11-30</td>\n",
       "      <td>08:46:00</td>\n",
       "      <td>Non-Rail Collision</td>\n",
       "      <td>...</td>\n",
       "      <td>11</td>\n",
       "      <td>30</td>\n",
       "      <td>Saturday</td>\n",
       "      <td>non-winter</td>\n",
       "      <td>8</td>\n",
       "      <td>morning</td>\n",
       "      <td>1</td>\n",
       "      <td>63217.0</td>\n",
       "      <td>0.513374</td>\n",
       "      <td>0</td>\n",
       "    </tr>\n",
       "    <tr>\n",
       "      <th>1</th>\n",
       "      <td>40035</td>\n",
       "      <td>65863</td>\n",
       "      <td>Bus</td>\n",
       "      <td>Demand Response</td>\n",
       "      <td>DR</td>\n",
       "      <td>DO</td>\n",
       "      <td>2024</td>\n",
       "      <td>2024-11-30</td>\n",
       "      <td>19:09:00</td>\n",
       "      <td>Non-Rail Collision</td>\n",
       "      <td>...</td>\n",
       "      <td>11</td>\n",
       "      <td>30</td>\n",
       "      <td>Saturday</td>\n",
       "      <td>non-winter</td>\n",
       "      <td>19</td>\n",
       "      <td>evening</td>\n",
       "      <td>0</td>\n",
       "      <td>65863.0</td>\n",
       "      <td>0.224168</td>\n",
       "      <td>0</td>\n",
       "    </tr>\n",
       "    <tr>\n",
       "      <th>2</th>\n",
       "      <td>50027</td>\n",
       "      <td>57628</td>\n",
       "      <td>Rail</td>\n",
       "      <td>Light Rail</td>\n",
       "      <td>LR</td>\n",
       "      <td>DO</td>\n",
       "      <td>2024</td>\n",
       "      <td>2024-11-29</td>\n",
       "      <td>20:30:00</td>\n",
       "      <td>Homicide not against Transit Worker</td>\n",
       "      <td>...</td>\n",
       "      <td>11</td>\n",
       "      <td>29</td>\n",
       "      <td>Friday</td>\n",
       "      <td>non-winter</td>\n",
       "      <td>20</td>\n",
       "      <td>evening</td>\n",
       "      <td>0</td>\n",
       "      <td>57628.0</td>\n",
       "      <td>0.231116</td>\n",
       "      <td>1</td>\n",
       "    </tr>\n",
       "    <tr>\n",
       "      <th>3</th>\n",
       "      <td>90026</td>\n",
       "      <td>78661</td>\n",
       "      <td>Rail</td>\n",
       "      <td>Light Rail</td>\n",
       "      <td>LR</td>\n",
       "      <td>DO</td>\n",
       "      <td>2024</td>\n",
       "      <td>2024-11-29</td>\n",
       "      <td>13:03:00</td>\n",
       "      <td>Assault not against Transit Worker</td>\n",
       "      <td>...</td>\n",
       "      <td>11</td>\n",
       "      <td>29</td>\n",
       "      <td>Friday</td>\n",
       "      <td>non-winter</td>\n",
       "      <td>13</td>\n",
       "      <td>afternoon</td>\n",
       "      <td>0</td>\n",
       "      <td>78661.0</td>\n",
       "      <td>0.380573</td>\n",
       "      <td>0</td>\n",
       "    </tr>\n",
       "    <tr>\n",
       "      <th>4</th>\n",
       "      <td>20080</td>\n",
       "      <td>63217</td>\n",
       "      <td>Bus</td>\n",
       "      <td>Bus</td>\n",
       "      <td>MB</td>\n",
       "      <td>DO</td>\n",
       "      <td>2024</td>\n",
       "      <td>2024-11-27</td>\n",
       "      <td>15:20:00</td>\n",
       "      <td>Non-Rail Collision</td>\n",
       "      <td>...</td>\n",
       "      <td>11</td>\n",
       "      <td>27</td>\n",
       "      <td>Wednesday</td>\n",
       "      <td>non-winter</td>\n",
       "      <td>15</td>\n",
       "      <td>afternoon</td>\n",
       "      <td>0</td>\n",
       "      <td>63217.0</td>\n",
       "      <td>0.513374</td>\n",
       "      <td>0</td>\n",
       "    </tr>\n",
       "  </tbody>\n",
       "</table>\n",
       "<p>5 rows × 30 columns</p>\n",
       "</div>"
      ],
      "text/plain": [
       "   NTD ID  Primary UZA UACE Code Rail/Bus/Ferry        Mode Name Mode TOS  \\\n",
       "0   20080                  63217            Bus              Bus   MB  DO   \n",
       "1   40035                  65863            Bus  Demand Response   DR  DO   \n",
       "2   50027                  57628           Rail       Light Rail   LR  DO   \n",
       "3   90026                  78661           Rail       Light Rail   LR  DO   \n",
       "4   20080                  63217            Bus              Bus   MB  DO   \n",
       "\n",
       "   Year  Event Date Event Time                           Event Type  ...  \\\n",
       "0  2024  2024-11-30   08:46:00                   Non-Rail Collision  ...   \n",
       "1  2024  2024-11-30   19:09:00                   Non-Rail Collision  ...   \n",
       "2  2024  2024-11-29   20:30:00  Homicide not against Transit Worker  ...   \n",
       "3  2024  2024-11-29   13:03:00   Assault not against Transit Worker  ...   \n",
       "4  2024  2024-11-27   15:20:00                   Non-Rail Collision  ...   \n",
       "\n",
       "  Month Day    Weekday      Season Hour  Time Of Day  Rush Hour     UACE  \\\n",
       "0    11  30   Saturday  non-winter    8      morning          1  63217.0   \n",
       "1    11  30   Saturday  non-winter   19      evening          0  65863.0   \n",
       "2    11  29     Friday  non-winter   20      evening          0  57628.0   \n",
       "3    11  29     Friday  non-winter   13    afternoon          0  78661.0   \n",
       "4    11  27  Wednesday  non-winter   15    afternoon          0  63217.0   \n",
       "\n",
       "    Density  Has Fatalities  \n",
       "0  0.513374               0  \n",
       "1  0.224168               0  \n",
       "2  0.231116               1  \n",
       "3  0.380573               0  \n",
       "4  0.513374               0  \n",
       "\n",
       "[5 rows x 30 columns]"
      ]
     },
     "execution_count": 36,
     "metadata": {},
     "output_type": "execute_result"
    }
   ],
   "source": [
    "df_test = pd.read_csv('../data/feature_engineered_data.csv')\n",
    "df_test.head()"
   ]
  },
  {
   "cell_type": "code",
   "execution_count": null,
   "metadata": {},
   "outputs": [],
   "source": []
  }
 ],
 "metadata": {
  "kernelspec": {
   "display_name": "base",
   "language": "python",
   "name": "python3"
  },
  "language_info": {
   "codemirror_mode": {
    "name": "ipython",
    "version": 3
   },
   "file_extension": ".py",
   "mimetype": "text/x-python",
   "name": "python",
   "nbconvert_exporter": "python",
   "pygments_lexer": "ipython3",
   "version": "3.9.7"
  }
 },
 "nbformat": 4,
 "nbformat_minor": 2
}
