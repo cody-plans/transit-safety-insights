{
 "cells": [
  {
   "cell_type": "code",
   "execution_count": 1,
   "metadata": {},
   "outputs": [
    {
     "name": "stderr",
     "output_type": "stream",
     "text": [
      "/Users/chukkalok/opt/anaconda3/lib/python3.9/site-packages/scipy/__init__.py:146: UserWarning: A NumPy version >=1.16.5 and <1.23.0 is required for this version of SciPy (detected version 1.23.4\n",
      "  warnings.warn(f\"A NumPy version >={np_minversion} and <{np_maxversion}\"\n"
     ]
    },
    {
     "name": "stdout",
     "output_type": "stream",
     "text": [
      "  event_date event_time  hour time_of_day  rush_hour      season    weekday  \\\n",
      "0 2024-11-30   08:46:00     8     morning          1  non-winter   Saturday   \n",
      "1 2024-11-30   19:09:00    19     evening          0  non-winter   Saturday   \n",
      "2 2024-11-29   20:30:00    20     evening          0  non-winter     Friday   \n",
      "3 2024-11-29   13:03:00    13   afternoon          0  non-winter     Friday   \n",
      "4 2024-11-27   15:20:00    15   afternoon          0  non-winter  Wednesday   \n",
      "\n",
      "   day  month  \n",
      "0   30     11  \n",
      "1   30     11  \n",
      "2   29     11  \n",
      "3   29     11  \n",
      "4   27     11  \n"
     ]
    }
   ],
   "source": [
    "import pandas as pd\n",
    "import numpy as np\n",
    "import matplotlib.pyplot as plt\n",
    "import seaborn as sns\n",
    "\n",
    "# Load data\n",
    "df = pd.read_csv('../data/cleaned_data.csv')\n",
    "\n",
    "\n",
    "# Convert columns to datetime objects\n",
    "df['Event Date'] = pd.to_datetime(df['Event Date'], format='%Y %B %d')\n",
    "df['Event Time'] = pd.to_datetime(df['Event Time'].astype(str)).dt.time\n",
    "\n",
    "\n",
    "# Extract features from Event Date\n",
    "df['Month'] = df['Event Date'].dt.month\n",
    "df['Day'] = df['Event Date'].dt.day\n",
    "df['Weekday'] = df['Event Date'].dt.day_name()\n",
    "\n",
    "# Create season feature (winter vs non-winter)\n",
    "df['Season'] = df['Month'].apply(lambda m: 'winter' if m in [12, 1, 2] else 'non-winter')\n",
    "\n",
    "# Convert Event Time to extract the hour (assuming it's in 24-hour format)\n",
    "# Since 'Event Time' is already datetime.time, you can extract hour directly:\n",
    "df['Hour'] = df['Event Time'].apply(lambda t: t.hour) #Using apply to access the hour attribute\n",
    "\n",
    "# Categorize time of day\n",
    "def categorize_time(hour):\n",
    "    if 5 <= hour < 12:\n",
    "        return 'morning'\n",
    "    elif 12 <= hour < 17:\n",
    "        return 'afternoon'\n",
    "    elif 17 <= hour < 21:\n",
    "        return 'evening'\n",
    "    else:\n",
    "        return 'night'\n",
    "\n",
    "df['Time Of Day'] = df['Hour'].apply(categorize_time)\n",
    "\n",
    "# Create rush hour flag\n",
    "def is_rush_hour(hour):\n",
    "    return 1 if (7 <= hour < 10 or 16 <= hour < 19) else 0\n",
    "\n",
    "df['Rush Hour'] = df['Hour'].apply(is_rush_hour) #Removed extra =\n",
    "\n",
    "# Select columns to display for checking\n",
    "columns = ['Event Date', 'Event Time', 'Hour', 'Time Of Day', 'Rush Hour', 'Season', 'Weekday', 'Day', 'Month']\n",
    "print(df[columns].head())\n",
    "\n",
    "# Store the new dataset to a new CSV file\n",
    "df = pd.read_csv('../data/feature_engineered_data.csv', index=False)"
   ]
  },
  {
   "cell_type": "code",
   "execution_count": null,
   "metadata": {},
   "outputs": [],
   "source": []
  }
 ],
 "metadata": {
  "kernelspec": {
   "display_name": "base",
   "language": "python",
   "name": "python3"
  },
  "language_info": {
   "codemirror_mode": {
    "name": "ipython",
    "version": 3
   },
   "file_extension": ".py",
   "mimetype": "text/x-python",
   "name": "python",
   "nbconvert_exporter": "python",
   "pygments_lexer": "ipython3",
   "version": "3.9.7"
  }
 },
 "nbformat": 4,
 "nbformat_minor": 2
}
